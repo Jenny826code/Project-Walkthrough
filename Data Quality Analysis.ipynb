{
 "cells": [
  {
   "cell_type": "markdown",
   "id": "2a597841-c946-4e84-bc35-954306802d96",
   "metadata": {},
   "source": [
    "# Project: Data Quality Monitoring Framework\n",
    "## Objective\n",
    "Initiated and implemented a data quality analysis framework to provide weekly oversight of raw data provided by external vendors, ensuring alignment with business standards and reducing downstream errors.\n",
    "\n",
    "## Key Contributions\n",
    "\n",
    "Quality Assurance Design: Developed a Power BI interactive dashboard to monitor key data quality metrics, including error rates, discrepancies, and vendor performance over time.\n",
    "Automated Tracking: Designed an Excel-based automation tool to log QA edits and compile data quality trends, significantly reducing manual tracking efforts.\n",
    "Cross-Functional Collaboration: Partnered with stakeholders to identify key pain points in data quality and established a feedback loop with vendors to address recurring issues.\n",
    "Analytical Excellence: Highlighted actionable insights from QA analysis, enabling managers to prioritize data corrections and improve decision-making processes.\n",
    "## Outcome\n",
    "The initiative reduced data inaccuracies by 25% and enhanced vendor accountability through transparent reporting. The framework saved significant time for the team while elevating the standard of data reliability for critical business decisions."
   ]
  },
  {
   "cell_type": "code",
   "execution_count": null,
   "id": "6d034168-62b8-4709-bde7-8c05c5e181f8",
   "metadata": {},
   "outputs": [],
   "source": [
    "from IPython.display import IFrame\n",
    "\n",
    "file_path = \"AAVMC Student Diversity Dashboard.pdf\"\n",
    "display(IFrame(src=file_path, width=1050, height=950))\n"
   ]
  }
 ],
 "metadata": {
  "kernelspec": {
   "display_name": "Python 3 (ipykernel)",
   "language": "python",
   "name": "python3"
  },
  "language_info": {
   "codemirror_mode": {
    "name": "ipython",
    "version": 3
   },
   "file_extension": ".py",
   "mimetype": "text/x-python",
   "name": "python",
   "nbconvert_exporter": "python",
   "pygments_lexer": "ipython3",
   "version": "3.12.4"
  }
 },
 "nbformat": 4,
 "nbformat_minor": 5
}
