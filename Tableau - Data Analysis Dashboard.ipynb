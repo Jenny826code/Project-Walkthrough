{
 "cells": [
  {
   "cell_type": "markdown",
   "id": "c3eb933f-02ec-4241-b9a0-d32dccc1af2f",
   "metadata": {},
   "source": [
    "# Project 1: AAVMC Student Diversity Dashboard\n",
    "## Objective\n",
    "Develop an end-to-end diversity dashboard for the Association of American Veterinary Medical Colleges (AAVMC) to provide insights into student demographic trends across U.S. Colleges of Veterinary Medicine. The dashboard enables stakeholders to track year-over-year diversity metrics and support data-driven decision-making on inclusivity initiatives.\n",
    "\n",
    "## Key Contributions\n",
    "\n",
    "- Data Integration: Consolidated and cleaned multi-year data from various platforms into a unified structure, ensuring consistency and accuracy across the dataset.\n",
    "- Interactive Visualization: Designed and deployed a Tableau dashboard embedded within the AAVMC client portal, enabling stakeholders to interact with diversity data by gender, ethnicity, and enrollment trends.\n",
    "- Business Impact: Empowered AAVMC and member institutions to evaluate the effectiveness of diversity programs, with actionable insights into underrepresented demographics to inform policy decisions and outreach efforts.\n",
    "- Automation: Streamlined data refresh workflows, reducing manual data processing by 40% and ensuring timely updates for stakeholders.\n",
    "## Outcome\n",
    "The dashboard became a cornerstone resource for AAVMC, offering transparency and actionable insights into student demographics and bolstering diversity and inclusion strategies."
   ]
  }
 ],
 "metadata": {
  "kernelspec": {
   "display_name": "Python 3 (ipykernel)",
   "language": "python",
   "name": "python3"
  },
  "language_info": {
   "codemirror_mode": {
    "name": "ipython",
    "version": 3
   },
   "file_extension": ".py",
   "mimetype": "text/x-python",
   "name": "python",
   "nbconvert_exporter": "python",
   "pygments_lexer": "ipython3",
   "version": "3.12.4"
  }
 },
 "nbformat": 4,
 "nbformat_minor": 5
}
