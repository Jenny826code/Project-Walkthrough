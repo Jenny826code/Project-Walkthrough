{
 "cells": [
  {
   "cell_type": "markdown",
   "id": "c3eb933f-02ec-4241-b9a0-d32dccc1af2f",
   "metadata": {},
   "source": [
    "# Project 1: AAVMC Student Diversity Dashboard\n",
    "## Objective\n",
    "Develop an end-to-end diversity analytics solution for the Association of American Veterinary Medical Colleges (AAVMC) to provide actionable insights into student demographic trends across U.S. Colleges of Veterinary Medicine. The dashboard serves as a critical tool for tracking year-over-year diversity metrics, supporting data-driven decision-making, and advancing inclusivity initiatives.\n",
    "\n",
    "## Key Contributions\n",
    "\n",
    "- **Data Integration and Standardization:**\n",
    "  \n",
    "Consolidated multi-year datasets from various platforms, performing extensive data cleaning and transformation to unify disparate sources. This ensured accuracy and consistency, creating a reliable foundation for analysis and visualization.\n",
    "- **Interactive Visualization:**\n",
    "  \n",
    "Designed and deployed an intuitive Tableau dashboard embedded directly into the AAVMC client portal. The interactive interface empowers stakeholders to explore diversity trends by gender, ethnicity, and enrollment patterns, providing flexibility and depth in data exploration.\n",
    "- **Stakeholder Alignment and Strategic Insights:**\n",
    "  \n",
    "Collaborated with cross-functional teams and institutional stakeholders to define key performance indicators (KPIs) and ensure the dashboard addressed their specific needs. Delivered actionable insights that informed outreach strategies and policy adjustments for underrepresented demographics.\n",
    "- **Process Automation and Efficiency:**\n",
    "Streamlined workflows by automating data refresh processes, reducing manual effort by 40% and ensuring timely updates. This enhanced the dashboard's scalability and reliability for ongoing use.\n",
    "## Business Impact\n",
    "\n",
    "Enabled AAVMC to identify gaps in diversity initiatives and implement data-informed strategies for inclusivity.\n",
    "Equipped institutions with a centralized, visual tool for monitoring progress, driving transparency, and fostering collaboration on diversity goals.\n",
    "## Outcome\n",
    "The dashboard became a cornerstone resource for advancing diversity in veterinary education, offering unparalleled transparency into demographic trends while safeguarding sensitive data.\n",
    "\n",
    "## Demonstration Dashboard\n",
    "Note: The dashboard was developed using **mockup data** to ensure confidentiality and protect sensitive information. This approach demonstrates the dashboard's full functionality and effectiveness without compromising real-world data security or privacy.\n",
    "\n"
   ]
  },
  {
   "cell_type": "code",
   "execution_count": 52,
   "id": "de924e8b-e230-4bcd-8fee-f78c949ba99d",
   "metadata": {},
   "outputs": [
    {
     "data": {
      "text/html": [
       "\n",
       "        <iframe\n",
       "            width=\"1050\"\n",
       "            height=\"950\"\n",
       "            src=\"AAVMC Student Diversity Dashboard.pdf\"\n",
       "            frameborder=\"0\"\n",
       "            allowfullscreen\n",
       "            \n",
       "        ></iframe>\n",
       "        "
      ],
      "text/plain": [
       "<IPython.lib.display.IFrame at 0x20914bf4380>"
      ]
     },
     "metadata": {},
     "output_type": "display_data"
    }
   ],
   "source": [
    "\n",
    "from IPython.display import IFrame\n",
    "\n",
    "file_path = \"AAVMC Student Diversity Dashboard.pdf\"\n",
    "display(IFrame(src=file_path, width=1050, height=950))\n"
   ]
  }
 ],
 "metadata": {
  "kernelspec": {
   "display_name": "Python 3 (ipykernel)",
   "language": "python",
   "name": "python3"
  },
  "language_info": {
   "codemirror_mode": {
    "name": "ipython",
    "version": 3
   },
   "file_extension": ".py",
   "mimetype": "text/x-python",
   "name": "python",
   "nbconvert_exporter": "python",
   "pygments_lexer": "ipython3",
   "version": "3.12.4"
  }
 },
 "nbformat": 4,
 "nbformat_minor": 5
}
